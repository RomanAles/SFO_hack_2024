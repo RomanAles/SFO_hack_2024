{
 "cells": [
  {
   "cell_type": "code",
   "execution_count": 2,
   "metadata": {},
   "outputs": [],
   "source": [
    "import pandas as pd\n",
    "import numpy as np\n",
    "from sklearn.model_selection import train_test_split\n",
    "from sklearn.preprocessing import StandardScaler, LabelEncoder\n",
    "from tensorflow.keras.models import Sequential\n",
    "from tensorflow.keras.layers import Dense\n",
    "from tensorflow.keras.optimizers import Adam\n",
    "from sklearn.metrics import mean_squared_error, mean_absolute_error, r2_score"
   ]
  },
  {
   "cell_type": "code",
   "execution_count": null,
   "metadata": {},
   "outputs": [],
   "source": []
  },
  {
   "cell_type": "code",
   "execution_count": 10,
   "metadata": {},
   "outputs": [],
   "source": [
    "import joblib"
   ]
  },
  {
   "cell_type": "code",
   "execution_count": 1,
   "metadata": {},
   "outputs": [],
   "source": [
    "import pandas as pd\n",
    "import numpy as np\n",
    "from sklearn.preprocessing import StandardScaler, LabelEncoder\n",
    "from sklearn.model_selection import train_test_split\n",
    "from tensorflow.keras.models import Sequential\n",
    "from tensorflow.keras.layers import LSTM, Dense\n",
    "from tensorflow.keras.optimizers import Adam"
   ]
  },
  {
   "cell_type": "code",
   "execution_count": 12,
   "metadata": {},
   "outputs": [],
   "source": [
    "data = pd.read_csv('ts_Final_data.csv')"
   ]
  },
  {
   "cell_type": "code",
   "execution_count": 13,
   "metadata": {},
   "outputs": [
    {
     "data": {
      "text/html": [
       "<div>\n",
       "<style scoped>\n",
       "    .dataframe tbody tr th:only-of-type {\n",
       "        vertical-align: middle;\n",
       "    }\n",
       "\n",
       "    .dataframe tbody tr th {\n",
       "        vertical-align: top;\n",
       "    }\n",
       "\n",
       "    .dataframe thead th {\n",
       "        text-align: right;\n",
       "    }\n",
       "</style>\n",
       "<table border=\"1\" class=\"dataframe\">\n",
       "  <thead>\n",
       "    <tr style=\"text-align: right;\">\n",
       "      <th></th>\n",
       "      <th>date</th>\n",
       "      <th>serial_number</th>\n",
       "      <th>model</th>\n",
       "      <th>capacity_bytes</th>\n",
       "      <th>failure</th>\n",
       "      <th>smart_5_raw</th>\n",
       "      <th>smart_9_raw</th>\n",
       "      <th>smart_12_raw</th>\n",
       "      <th>smart_187_raw</th>\n",
       "      <th>smart_188_raw</th>\n",
       "      <th>smart_190_raw</th>\n",
       "      <th>smart_193_raw</th>\n",
       "      <th>smart_194_raw</th>\n",
       "      <th>smart_197_raw</th>\n",
       "      <th>smart_198_raw</th>\n",
       "      <th>smart_199_raw</th>\n",
       "      <th>smart_241_raw</th>\n",
       "      <th>smart_242_raw</th>\n",
       "      <th>days_to_failure</th>\n",
       "    </tr>\n",
       "  </thead>\n",
       "  <tbody>\n",
       "    <tr>\n",
       "      <th>0</th>\n",
       "      <td>2023-01-01</td>\n",
       "      <td>W300T02T</td>\n",
       "      <td>ST4000DM000</td>\n",
       "      <td>4000787030016</td>\n",
       "      <td>0</td>\n",
       "      <td>5392.0</td>\n",
       "      <td>66939.0</td>\n",
       "      <td>9.0</td>\n",
       "      <td>21.0</td>\n",
       "      <td>0.0</td>\n",
       "      <td>18.0</td>\n",
       "      <td>11740.0</td>\n",
       "      <td>18.0</td>\n",
       "      <td>0.0</td>\n",
       "      <td>0.0</td>\n",
       "      <td>0.0</td>\n",
       "      <td>6.348879e+10</td>\n",
       "      <td>3.674318e+11</td>\n",
       "      <td>45</td>\n",
       "    </tr>\n",
       "    <tr>\n",
       "      <th>1</th>\n",
       "      <td>2023-01-01</td>\n",
       "      <td>W300R7SP</td>\n",
       "      <td>ST4000DM000</td>\n",
       "      <td>4000787030016</td>\n",
       "      <td>0</td>\n",
       "      <td>8.0</td>\n",
       "      <td>66944.0</td>\n",
       "      <td>5.0</td>\n",
       "      <td>45.0</td>\n",
       "      <td>0.0</td>\n",
       "      <td>19.0</td>\n",
       "      <td>11776.0</td>\n",
       "      <td>19.0</td>\n",
       "      <td>0.0</td>\n",
       "      <td>0.0</td>\n",
       "      <td>0.0</td>\n",
       "      <td>6.180113e+10</td>\n",
       "      <td>3.769783e+11</td>\n",
       "      <td>67</td>\n",
       "    </tr>\n",
       "    <tr>\n",
       "      <th>2</th>\n",
       "      <td>2023-01-01</td>\n",
       "      <td>W300R8BM</td>\n",
       "      <td>ST4000DM000</td>\n",
       "      <td>4000787030016</td>\n",
       "      <td>0</td>\n",
       "      <td>0.0</td>\n",
       "      <td>66938.0</td>\n",
       "      <td>11.0</td>\n",
       "      <td>0.0</td>\n",
       "      <td>0.0</td>\n",
       "      <td>18.0</td>\n",
       "      <td>11867.0</td>\n",
       "      <td>18.0</td>\n",
       "      <td>0.0</td>\n",
       "      <td>0.0</td>\n",
       "      <td>0.0</td>\n",
       "      <td>6.297468e+10</td>\n",
       "      <td>3.565669e+11</td>\n",
       "      <td>139</td>\n",
       "    </tr>\n",
       "    <tr>\n",
       "      <th>3</th>\n",
       "      <td>2023-01-01</td>\n",
       "      <td>Z302CSM2</td>\n",
       "      <td>ST4000DM000</td>\n",
       "      <td>4000787030016</td>\n",
       "      <td>0</td>\n",
       "      <td>48.0</td>\n",
       "      <td>60913.0</td>\n",
       "      <td>11.0</td>\n",
       "      <td>34.0</td>\n",
       "      <td>20.0</td>\n",
       "      <td>17.0</td>\n",
       "      <td>10396.0</td>\n",
       "      <td>17.0</td>\n",
       "      <td>0.0</td>\n",
       "      <td>0.0</td>\n",
       "      <td>36.0</td>\n",
       "      <td>5.442403e+10</td>\n",
       "      <td>3.333510e+11</td>\n",
       "      <td>57</td>\n",
       "    </tr>\n",
       "    <tr>\n",
       "      <th>4</th>\n",
       "      <td>2023-01-01</td>\n",
       "      <td>WD-WX71A74PAYDF</td>\n",
       "      <td>WDC WD5000LPVX</td>\n",
       "      <td>500107862016</td>\n",
       "      <td>0</td>\n",
       "      <td>0.0</td>\n",
       "      <td>71225.0</td>\n",
       "      <td>13.0</td>\n",
       "      <td>0.0</td>\n",
       "      <td>0.0</td>\n",
       "      <td>0.0</td>\n",
       "      <td>3480.0</td>\n",
       "      <td>22.0</td>\n",
       "      <td>0.0</td>\n",
       "      <td>0.0</td>\n",
       "      <td>0.0</td>\n",
       "      <td>0.000000e+00</td>\n",
       "      <td>0.000000e+00</td>\n",
       "      <td>34</td>\n",
       "    </tr>\n",
       "    <tr>\n",
       "      <th>...</th>\n",
       "      <td>...</td>\n",
       "      <td>...</td>\n",
       "      <td>...</td>\n",
       "      <td>...</td>\n",
       "      <td>...</td>\n",
       "      <td>...</td>\n",
       "      <td>...</td>\n",
       "      <td>...</td>\n",
       "      <td>...</td>\n",
       "      <td>...</td>\n",
       "      <td>...</td>\n",
       "      <td>...</td>\n",
       "      <td>...</td>\n",
       "      <td>...</td>\n",
       "      <td>...</td>\n",
       "      <td>...</td>\n",
       "      <td>...</td>\n",
       "      <td>...</td>\n",
       "      <td>...</td>\n",
       "    </tr>\n",
       "    <tr>\n",
       "      <th>1647213</th>\n",
       "      <td>2023-12-31</td>\n",
       "      <td>X270A01MFVKG</td>\n",
       "      <td>TOSHIBA MG08ACA16TA</td>\n",
       "      <td>16000900661248</td>\n",
       "      <td>0</td>\n",
       "      <td>0.0</td>\n",
       "      <td>286.0</td>\n",
       "      <td>15.0</td>\n",
       "      <td>0.0</td>\n",
       "      <td>0.0</td>\n",
       "      <td>0.0</td>\n",
       "      <td>32.0</td>\n",
       "      <td>37.0</td>\n",
       "      <td>0.0</td>\n",
       "      <td>0.0</td>\n",
       "      <td>0.0</td>\n",
       "      <td>0.000000e+00</td>\n",
       "      <td>0.000000e+00</td>\n",
       "      <td>3</td>\n",
       "    </tr>\n",
       "    <tr>\n",
       "      <th>1647214</th>\n",
       "      <td>2023-12-31</td>\n",
       "      <td>X2E0A060FVKG</td>\n",
       "      <td>TOSHIBA MG08ACA16TA</td>\n",
       "      <td>16000900661248</td>\n",
       "      <td>0</td>\n",
       "      <td>0.0</td>\n",
       "      <td>284.0</td>\n",
       "      <td>15.0</td>\n",
       "      <td>0.0</td>\n",
       "      <td>0.0</td>\n",
       "      <td>0.0</td>\n",
       "      <td>34.0</td>\n",
       "      <td>36.0</td>\n",
       "      <td>0.0</td>\n",
       "      <td>0.0</td>\n",
       "      <td>0.0</td>\n",
       "      <td>0.000000e+00</td>\n",
       "      <td>0.000000e+00</td>\n",
       "      <td>87</td>\n",
       "    </tr>\n",
       "    <tr>\n",
       "      <th>1647215</th>\n",
       "      <td>2023-12-31</td>\n",
       "      <td>8230A182FVKG</td>\n",
       "      <td>TOSHIBA MG08ACA16TA</td>\n",
       "      <td>16000900661248</td>\n",
       "      <td>0</td>\n",
       "      <td>0.0</td>\n",
       "      <td>7484.0</td>\n",
       "      <td>28.0</td>\n",
       "      <td>0.0</td>\n",
       "      <td>0.0</td>\n",
       "      <td>0.0</td>\n",
       "      <td>53.0</td>\n",
       "      <td>41.0</td>\n",
       "      <td>0.0</td>\n",
       "      <td>0.0</td>\n",
       "      <td>0.0</td>\n",
       "      <td>0.000000e+00</td>\n",
       "      <td>0.000000e+00</td>\n",
       "      <td>28</td>\n",
       "    </tr>\n",
       "    <tr>\n",
       "      <th>1647216</th>\n",
       "      <td>2023-12-31</td>\n",
       "      <td>8230A13GFVKG</td>\n",
       "      <td>TOSHIBA MG08ACA16TA</td>\n",
       "      <td>16000900661248</td>\n",
       "      <td>0</td>\n",
       "      <td>0.0</td>\n",
       "      <td>7474.0</td>\n",
       "      <td>20.0</td>\n",
       "      <td>0.0</td>\n",
       "      <td>0.0</td>\n",
       "      <td>0.0</td>\n",
       "      <td>42.0</td>\n",
       "      <td>32.0</td>\n",
       "      <td>0.0</td>\n",
       "      <td>0.0</td>\n",
       "      <td>0.0</td>\n",
       "      <td>0.000000e+00</td>\n",
       "      <td>0.000000e+00</td>\n",
       "      <td>75</td>\n",
       "    </tr>\n",
       "    <tr>\n",
       "      <th>1647217</th>\n",
       "      <td>2023-12-31</td>\n",
       "      <td>8230A1X8FVKG</td>\n",
       "      <td>TOSHIBA MG08ACA16TA</td>\n",
       "      <td>16000900661248</td>\n",
       "      <td>0</td>\n",
       "      <td>0.0</td>\n",
       "      <td>8243.0</td>\n",
       "      <td>24.0</td>\n",
       "      <td>0.0</td>\n",
       "      <td>0.0</td>\n",
       "      <td>0.0</td>\n",
       "      <td>39.0</td>\n",
       "      <td>30.0</td>\n",
       "      <td>0.0</td>\n",
       "      <td>0.0</td>\n",
       "      <td>0.0</td>\n",
       "      <td>0.000000e+00</td>\n",
       "      <td>0.000000e+00</td>\n",
       "      <td>77</td>\n",
       "    </tr>\n",
       "  </tbody>\n",
       "</table>\n",
       "<p>1647218 rows × 19 columns</p>\n",
       "</div>"
      ],
      "text/plain": [
       "               date    serial_number                model  capacity_bytes  \\\n",
       "0        2023-01-01         W300T02T          ST4000DM000   4000787030016   \n",
       "1        2023-01-01         W300R7SP          ST4000DM000   4000787030016   \n",
       "2        2023-01-01         W300R8BM          ST4000DM000   4000787030016   \n",
       "3        2023-01-01         Z302CSM2          ST4000DM000   4000787030016   \n",
       "4        2023-01-01  WD-WX71A74PAYDF       WDC WD5000LPVX    500107862016   \n",
       "...             ...              ...                  ...             ...   \n",
       "1647213  2023-12-31     X270A01MFVKG  TOSHIBA MG08ACA16TA  16000900661248   \n",
       "1647214  2023-12-31     X2E0A060FVKG  TOSHIBA MG08ACA16TA  16000900661248   \n",
       "1647215  2023-12-31     8230A182FVKG  TOSHIBA MG08ACA16TA  16000900661248   \n",
       "1647216  2023-12-31     8230A13GFVKG  TOSHIBA MG08ACA16TA  16000900661248   \n",
       "1647217  2023-12-31     8230A1X8FVKG  TOSHIBA MG08ACA16TA  16000900661248   \n",
       "\n",
       "         failure  smart_5_raw  smart_9_raw  smart_12_raw  smart_187_raw  \\\n",
       "0              0       5392.0      66939.0           9.0           21.0   \n",
       "1              0          8.0      66944.0           5.0           45.0   \n",
       "2              0          0.0      66938.0          11.0            0.0   \n",
       "3              0         48.0      60913.0          11.0           34.0   \n",
       "4              0          0.0      71225.0          13.0            0.0   \n",
       "...          ...          ...          ...           ...            ...   \n",
       "1647213        0          0.0        286.0          15.0            0.0   \n",
       "1647214        0          0.0        284.0          15.0            0.0   \n",
       "1647215        0          0.0       7484.0          28.0            0.0   \n",
       "1647216        0          0.0       7474.0          20.0            0.0   \n",
       "1647217        0          0.0       8243.0          24.0            0.0   \n",
       "\n",
       "         smart_188_raw  smart_190_raw  smart_193_raw  smart_194_raw  \\\n",
       "0                  0.0           18.0        11740.0           18.0   \n",
       "1                  0.0           19.0        11776.0           19.0   \n",
       "2                  0.0           18.0        11867.0           18.0   \n",
       "3                 20.0           17.0        10396.0           17.0   \n",
       "4                  0.0            0.0         3480.0           22.0   \n",
       "...                ...            ...            ...            ...   \n",
       "1647213            0.0            0.0           32.0           37.0   \n",
       "1647214            0.0            0.0           34.0           36.0   \n",
       "1647215            0.0            0.0           53.0           41.0   \n",
       "1647216            0.0            0.0           42.0           32.0   \n",
       "1647217            0.0            0.0           39.0           30.0   \n",
       "\n",
       "         smart_197_raw  smart_198_raw  smart_199_raw  smart_241_raw  \\\n",
       "0                  0.0            0.0            0.0   6.348879e+10   \n",
       "1                  0.0            0.0            0.0   6.180113e+10   \n",
       "2                  0.0            0.0            0.0   6.297468e+10   \n",
       "3                  0.0            0.0           36.0   5.442403e+10   \n",
       "4                  0.0            0.0            0.0   0.000000e+00   \n",
       "...                ...            ...            ...            ...   \n",
       "1647213            0.0            0.0            0.0   0.000000e+00   \n",
       "1647214            0.0            0.0            0.0   0.000000e+00   \n",
       "1647215            0.0            0.0            0.0   0.000000e+00   \n",
       "1647216            0.0            0.0            0.0   0.000000e+00   \n",
       "1647217            0.0            0.0            0.0   0.000000e+00   \n",
       "\n",
       "         smart_242_raw  days_to_failure  \n",
       "0         3.674318e+11               45  \n",
       "1         3.769783e+11               67  \n",
       "2         3.565669e+11              139  \n",
       "3         3.333510e+11               57  \n",
       "4         0.000000e+00               34  \n",
       "...                ...              ...  \n",
       "1647213   0.000000e+00                3  \n",
       "1647214   0.000000e+00               87  \n",
       "1647215   0.000000e+00               28  \n",
       "1647216   0.000000e+00               75  \n",
       "1647217   0.000000e+00               77  \n",
       "\n",
       "[1647218 rows x 19 columns]"
      ]
     },
     "execution_count": 13,
     "metadata": {},
     "output_type": "execute_result"
    }
   ],
   "source": [
    "data"
   ]
  },
  {
   "cell_type": "code",
   "execution_count": 14,
   "metadata": {},
   "outputs": [],
   "source": [
    "data.sort_values(by=['serial_number', 'date'], inplace=True)"
   ]
  },
  {
   "cell_type": "code",
   "execution_count": 15,
   "metadata": {},
   "outputs": [],
   "source": [
    "le = LabelEncoder()\n",
    "data['model'] = le.fit_transform(data['model'])"
   ]
  },
  {
   "cell_type": "code",
   "execution_count": 16,
   "metadata": {},
   "outputs": [],
   "source": [
    "features = ['model', 'capacity_bytes', 'failure', 'smart_5_raw', 'smart_9_raw', 'smart_12_raw',\n",
    "            'smart_187_raw', 'smart_188_raw', 'smart_190_raw', 'smart_193_raw',\n",
    "            'smart_194_raw', 'smart_197_raw', 'smart_198_raw', 'smart_199_raw',\n",
    "            'smart_241_raw', 'smart_242_raw']\n",
    "target = 'days_to_failure'"
   ]
  },
  {
   "cell_type": "code",
   "execution_count": 17,
   "metadata": {},
   "outputs": [],
   "source": [
    "scaler = StandardScaler()\n",
    "data[features] = scaler.fit_transform(data[features])"
   ]
  },
  {
   "cell_type": "code",
   "execution_count": 43,
   "metadata": {},
   "outputs": [],
   "source": [
    "def create_sequences(data, target_col, window_size=30):\n",
    "    X = []\n",
    "    y = []\n",
    "    for i in range(len(data) - window_size):\n",
    "        X.append(data.iloc[i:i+window_size][features].values)\n",
    "        y.append(data.iloc[i+window_size][target_col])\n",
    "    return np.array(X), np.array(y)"
   ]
  },
  {
   "cell_type": "code",
   "execution_count": 44,
   "metadata": {},
   "outputs": [],
   "source": [
    "X, y = create_sequences(data, target, window_size=30)"
   ]
  },
  {
   "cell_type": "code",
   "execution_count": 45,
   "metadata": {},
   "outputs": [],
   "source": [
    "X_train, X_test, y_train, y_test = train_test_split(X, y, test_size=0.2, random_state=42)"
   ]
  },
  {
   "cell_type": "code",
   "execution_count": 54,
   "metadata": {},
   "outputs": [],
   "source": [
    "np.save('X_train.npy', X_train)\n",
    "np.save('X_test.npy', X_test)\n",
    "np.save('y_train.npy', y_train)\n",
    "np.save('y_test.npy', y_test)"
   ]
  },
  {
   "cell_type": "code",
   "execution_count": 3,
   "metadata": {},
   "outputs": [],
   "source": [
    "import pandas as pd\n",
    "import numpy as np\n",
    "from sklearn.model_selection import train_test_split\n",
    "from sklearn.preprocessing import StandardScaler, LabelEncoder\n",
    "from tensorflow.keras.models import Sequential\n",
    "from tensorflow.keras.layers import Dense\n",
    "from tensorflow.keras.optimizers import Adam\n",
    "from sklearn.metrics import mean_squared_error, mean_absolute_error, r2_score"
   ]
  },
  {
   "cell_type": "code",
   "execution_count": 4,
   "metadata": {},
   "outputs": [],
   "source": [
    "X_train = np.load('X_train.npy')\n",
    "X_test = np.load('X_test.npy')\n",
    "y_train = np.load('y_train.npy')\n",
    "y_test = np.load('y_test.npy')"
   ]
  },
  {
   "cell_type": "code",
   "execution_count": 5,
   "metadata": {},
   "outputs": [
    {
     "name": "stderr",
     "output_type": "stream",
     "text": [
      "c:\\Users\\asas7\\miniconda3\\Lib\\site-packages\\keras\\src\\layers\\rnn\\rnn.py:204: UserWarning: Do not pass an `input_shape`/`input_dim` argument to a layer. When using Sequential models, prefer using an `Input(shape)` object as the first layer in the model instead.\n",
      "  super().__init__(**kwargs)\n"
     ]
    }
   ],
   "source": [
    "model = Sequential()\n",
    "model.add(LSTM(50, input_shape=(X_train.shape[1], X_train.shape[2]), return_sequences=True))\n",
    "model.add(LSTM(50, return_sequences=False))\n",
    "model.add(Dense(1))"
   ]
  },
  {
   "cell_type": "code",
   "execution_count": 6,
   "metadata": {},
   "outputs": [],
   "source": [
    "model.compile(optimizer=Adam(learning_rate=0.001), loss='mean_squared_error')"
   ]
  },
  {
   "cell_type": "code",
   "execution_count": 7,
   "metadata": {},
   "outputs": [
    {
     "name": "stdout",
     "output_type": "stream",
     "text": [
      "Epoch 1/5\n",
      "\u001b[1m37062/37062\u001b[0m \u001b[32m━━━━━━━━━━━━━━━━━━━━\u001b[0m\u001b[37m\u001b[0m \u001b[1m610s\u001b[0m 16ms/step - loss: 18963.0117 - val_loss: 11914.4756\n",
      "Epoch 2/5\n",
      "\u001b[1m37062/37062\u001b[0m \u001b[32m━━━━━━━━━━━━━━━━━━━━\u001b[0m\u001b[37m\u001b[0m \u001b[1m607s\u001b[0m 16ms/step - loss: 11732.4473 - val_loss: 10991.8213\n",
      "Epoch 3/5\n",
      "\u001b[1m37062/37062\u001b[0m \u001b[32m━━━━━━━━━━━━━━━━━━━━\u001b[0m\u001b[37m\u001b[0m \u001b[1m594s\u001b[0m 16ms/step - loss: 10804.9336 - val_loss: 10251.7041\n",
      "Epoch 4/5\n",
      "\u001b[1m37062/37062\u001b[0m \u001b[32m━━━━━━━━━━━━━━━━━━━━\u001b[0m\u001b[37m\u001b[0m \u001b[1m640s\u001b[0m 17ms/step - loss: 10093.3809 - val_loss: 9663.8916\n",
      "Epoch 5/5\n",
      "\u001b[1m37062/37062\u001b[0m \u001b[32m━━━━━━━━━━━━━━━━━━━━\u001b[0m\u001b[37m\u001b[0m \u001b[1m730s\u001b[0m 20ms/step - loss: 9583.1992 - val_loss: 9318.7949\n"
     ]
    },
    {
     "data": {
      "text/plain": [
       "<keras.src.callbacks.history.History at 0x207e5e5e990>"
      ]
     },
     "execution_count": 7,
     "metadata": {},
     "output_type": "execute_result"
    }
   ],
   "source": [
    "model.fit(X_train, y_train, epochs=5, batch_size=32, validation_split=0.1, verbose=1)"
   ]
  },
  {
   "cell_type": "code",
   "execution_count": 18,
   "metadata": {},
   "outputs": [
    {
     "data": {
      "text/plain": [
       "['scaler.pkl']"
      ]
     },
     "execution_count": 18,
     "metadata": {},
     "output_type": "execute_result"
    }
   ],
   "source": [
    "joblib.dump(le, 'label_encoder.pkl')\n",
    "joblib.dump(scaler, 'scaler.pkl')"
   ]
  },
  {
   "cell_type": "code",
   "execution_count": null,
   "metadata": {},
   "outputs": [],
   "source": [
    "y_pred = model.predict(X_test)"
   ]
  },
  {
   "cell_type": "code",
   "execution_count": null,
   "metadata": {},
   "outputs": [],
   "source": [
    "from sklearn.metrics import mean_squared_error, mean_absolute_error, r2_score\n",
    "\n",
    "mse = mean_squared_error(y_test, y_pred)\n",
    "rmse = np.sqrt(mse)\n",
    "mae = mean_absolute_error(y_test, y_pred)\n",
    "r2 = r2_score(y_test, y_pred)\n",
    "\n",
    "print(f\"Mean Squared Error (MSE): {mse}\")\n",
    "print(f\"Root Mean Squared Error (RMSE): {rmse}\")\n",
    "print(f\"Mean Absolute Error (MAE): {mae}\")\n",
    "print(f\"R-squared (R²): {r2}\")"
   ]
  },
  {
   "cell_type": "code",
   "execution_count": 9,
   "metadata": {},
   "outputs": [],
   "source": [
    "from tensorflow.keras.models import load_model\n",
    "\n",
    "model.save('lstm_model.keras')\n"
   ]
  },
  {
   "cell_type": "code",
   "execution_count": null,
   "metadata": {},
   "outputs": [],
   "source": []
  }
 ],
 "metadata": {
  "kernelspec": {
   "display_name": "base",
   "language": "python",
   "name": "python3"
  },
  "language_info": {
   "codemirror_mode": {
    "name": "ipython",
    "version": 3
   },
   "file_extension": ".py",
   "mimetype": "text/x-python",
   "name": "python",
   "nbconvert_exporter": "python",
   "pygments_lexer": "ipython3",
   "version": "3.12.3"
  }
 },
 "nbformat": 4,
 "nbformat_minor": 2
}
